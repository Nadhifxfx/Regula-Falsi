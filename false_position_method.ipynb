{
  "nbformat": 4,
  "nbformat_minor": 0,
  "metadata": {
    "colab": {
      "provenance": [],
      "authorship_tag": "ABX9TyNNnzI41CCu+Wo2JG/1kV22",
      "include_colab_link": true
    },
    "kernelspec": {
      "name": "python3",
      "display_name": "Python 3"
    },
    "language_info": {
      "name": "python"
    }
  },
  "cells": [
    {
      "cell_type": "markdown",
      "metadata": {
        "id": "view-in-github",
        "colab_type": "text"
      },
      "source": [
        "<a href=\"https://colab.research.google.com/github/Nadhifxfx/Regula-Falsi/blob/main/false_position_method.ipynb\" target=\"_parent\"><img src=\"https://colab.research.google.com/assets/colab-badge.svg\" alt=\"Open In Colab\"/></a>"
      ]
    },
    {
      "cell_type": "code",
      "execution_count": 1,
      "metadata": {
        "id": "DDb83c1PjQ7b",
        "colab": {
          "base_uri": "https://localhost:8080/"
        },
        "outputId": "986a2123-9f59-404f-9a4c-5981adcd760c"
      },
      "outputs": [
        {
          "output_type": "stream",
          "name": "stdout",
          "text": [
            "Iterasi    a          b          f(a)       f(b)       x          f(x)       Lebar     \n",
            "1          4.333      6.000      -2.222     5.000      4.333      -2.222     1.667     \n",
            "2          4.846      6.000      -0.592     5.000      4.846      -0.592     1.154     \n",
            "3          4.968      6.000      -0.126     5.000      4.968      -0.126     1.032     \n",
            "4          4.994      6.000      -0.026     5.000      4.994      -0.026     1.006     \n",
            "5          4.999      6.000      -0.005     5.000      4.999      -0.005     1.001     \n",
            "6          5.000      6.000      -0.001     5.000      5.000      -0.001     1.000     \n",
            "7          5.000      6.000      -0.000     5.000      5.000      -0.000     1.000     \n",
            "\n",
            "Akar yang ditemukan pada iterasi ke-5: 5.000\n"
          ]
        }
      ],
      "source": [
        "def f(x):\n",
        "    return x**2 - 6*x + 5\n",
        "\n",
        "a = 3.0  # Batas awal selang\n",
        "b = 6.0  # Batas akhir selang\n",
        "\n",
        "# Inisialisasi tabel penolong\n",
        "print(\"{:<10} {:<10} {:<10} {:<10} {:<10} {:<10} {:<10} {:<10}\".format(\n",
        "    \"Iterasi\", \"a\", \"b\", \"f(a)\", \"f(b)\", \"x\", \"f(x)\", \"Lebar\"))\n",
        "\n",
        "# Lima iterasi\n",
        "for iterasi in range(7):\n",
        "    x = (a * f(b) - b * f(a)) / (f(b) - f(a))\n",
        "\n",
        "    # Hitung f(x)\n",
        "    f_x = f(x)\n",
        "\n",
        "    # Cek akar di selang [a, x] atau [x, b]\n",
        "    if f(a) * f_x < 0:\n",
        "        b = x\n",
        "    else:\n",
        "        a = x\n",
        "\n",
        "    # Hitung lebar selang\n",
        "    lebar_selang = abs(a - b)\n",
        "\n",
        "    # Tampilkan hasil pada tabel penolong\n",
        "    print(\"{:<10} {:<10.3f} {:<10.3f} {:<10.3f} {:<10.3f} {:<10.3f} {:<10.3f} {:<10.3f}\".format(\n",
        "        iterasi + 1, a, b, f(a), f(b), x, f_x, lebar_selang))\n",
        "\n",
        "# Hasil akar pada iterasi ke-5\n",
        "print(\"\\nAkar yang ditemukan pada iterasi ke-5: {:.3f}\".format(x))"
      ]
    }
  ]
}